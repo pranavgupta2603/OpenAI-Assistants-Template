{
 "cells": [
  {
   "cell_type": "markdown",
   "metadata": {},
   "source": [
    "# You can use this as a template to quickly create an Assistant using OpenAI's Assistant API"
   ],
   "id": "483877a23d9d69de"
  },
  {
   "cell_type": "markdown",
   "metadata": {},
   "source": [
    "### Import Packages"
   ],
   "id": "e36951703b5abc19"
  },
  {
   "cell_type": "code",
   "execution_count": 3,
   "id": "b21fdf7e-c27e-493c-b9d2-dbcc6ef61abb",
   "metadata": {},
   "outputs": [],
   "source": [
    "from dotenv import load_dotenv\n",
    "from utils.modules import *\n",
    "load_dotenv() # Load .env file\n",
    "from openai import OpenAI\n",
    "client = OpenAI() # Initialize OpenAI Client\n",
    "from IPython.display import display, Markdown"
   ]
  },
  {
   "cell_type": "markdown",
   "metadata": {},
   "source": [
    "### You can start an assistant from scratch or even use an already made assistant on a thread made from scratch\n",
    "\n",
    "-> For Assistants - \n",
    "* Set ```get_premade_assistant = False``` to create a new assistant.\n",
    "* Set ```get_premade_assistant = True``` if you want to use a previous assistant.\n",
    "\n",
    "-> For Threads -\n",
    "* Set ```get_previous_thread = False``` to create a new thread.\n",
    "* Set ```get_previous_thread = True``` if you want to use a previous thread.\n"
   ],
   "id": "9eba395ec5bbb08e"
  },
  {
   "cell_type": "code",
   "execution_count": 4,
   "metadata": {},
   "outputs": [],
   "source": [
    "get_premade_assistant = True\n",
    "get_previous_thread = True\n",
    "\n",
    "assistant_id_to_use = \"asst_6waRJUR4EfaVRYWLkqetgSuu\"\n",
    "thread_id_to_use = \"thread_bBkIkcD7yZW3QtrIYt6GMj5e\""
   ],
   "id": "adf9d65fd6effdbe"
  },
  {
   "cell_type": "markdown",
   "metadata": {},
   "source": [
    "### Get Assistant using assistant id"
   ],
   "id": "22c7e9588b374fe5"
  },
  {
   "cell_type": "code",
   "execution_count": 8,
   "metadata": {},
   "outputs": [
    {
     "name": "stdout",
     "output_type": "stream",
     "text": [
      "Science Tutor is ready to go!\n"
     ]
    }
   ],
   "source": [
    "if get_premade_assistant:\n",
    "    assistant = get_assistant(client, assistant_id_to_use) # Retrieve Assistant\n",
    "    print(assistant.name + \" is ready to go!\")\n",
    "else:\n",
    "    name = \"Science Tutor\"\n",
    "    description = \"A tutor for science students\"\n",
    "    instructions = \"You are going to help 5th grade students with their science homework. Make sure you give examples and explain the concepts in a way that they can understand.\"\n",
    "    tools = [\n",
    "        {type: \"code_interpreter\"},\n",
    "        {type: \"retrieval\"}\n",
    "    ]\n",
    "    assistant = create_assistant(client, name, description, instructions) # Create Assistant\n",
    "    print(\"New Assistant created with ID: \" + assistant.id)"
   ],
   "id": "7771e41f4fce875e"
  },
  {
   "cell_type": "markdown",
   "metadata": {},
   "source": [
    "### Retrieve the previous conversation"
   ],
   "id": "b2cf658b7cb5eb8c"
  },
  {
   "cell_type": "code",
   "execution_count": 5,
   "metadata": {},
   "outputs": [
    {
     "name": "stdout",
     "output_type": "stream",
     "text": [
      "New chat created with ID: thread_bBkIkcD7yZW3QtrIYt6GMj5e\n"
     ]
    }
   ],
   "source": [
    "# Retrieve the previous conversation thread\n",
    "\n",
    "if get_previous_thread:\n",
    "    thread = get_chat(client, thread_id_to_use)\n",
    "    print(\"Chat retrieved with ID: \" + thread.id)\n",
    "    print(thread)\n",
    "else:\n",
    "    thread = start_new_chat(client)\n",
    "    print(\"New chat created with ID: \" + thread.id)"
   ],
   "id": "28b405d0bd043659"
  },
  {
   "cell_type": "markdown",
   "metadata": {},
   "source": [
    "### Add new message into thread"
   ],
   "id": "953a2c6c745145fd"
  },
  {
   "cell_type": "code",
   "execution_count": 10,
   "metadata": {},
   "outputs": [],
   "source": [
    "# Message to send to the assistant\n",
    "\n",
    "content = \"What does the male need to do with the female to reproduce?\""
   ],
   "id": "f5003687617b67d4"
  },
  {
   "cell_type": "code",
   "execution_count": 11,
   "metadata": {},
   "outputs": [
    {
     "name": "stdout",
     "output_type": "stream",
     "text": [
      "ThreadMessage(id='msg_c430qLwsTviimYE4cxdVwA5C', assistant_id=None, content=[MessageContentText(text=Text(annotations=[], value='What does the male need to do with the female to reproduce?'), type='text')], created_at=1699368299, file_ids=[], metadata={}, object='thread.message', role='user', run_id=None, thread_id='thread_bBkIkcD7yZW3QtrIYt6GMj5e')\n"
     ]
    }
   ],
   "source": [
    "# Add the message into the thread\n",
    "\n",
    "new_message = add_message(client, thread, content)\n",
    "print(new_message)"
   ],
   "id": "8830540a71fcdc6f"
  },
  {
   "cell_type": "markdown",
   "metadata": {},
   "source": [
    "### Run the thread with the new message"
   ],
   "id": "4ebf12c223c9d5c3"
  },
  {
   "cell_type": "code",
   "execution_count": 12,
   "metadata": {},
   "outputs": [
    {
     "data": {
      "text/plain": [
       "Run(id='run_P9BupEy5ZbpMl7XAeeKlbLSD', assistant_id='asst_6waRJUR4EfaVRYWLkqetgSuu', cancelled_at=None, completed_at=None, created_at=1699368300, expires_at=1699368900, failed_at=None, file_ids=[], instructions='You are going to help 5th grade students with their science homework. Make sure you give examples and explain the concepts in a way that they can understand.', last_error=None, metadata={}, model='gpt-3.5-turbo-1106', object='thread.run', required_action=None, started_at=None, status='queued', thread_id='thread_bBkIkcD7yZW3QtrIYt6GMj5e', tools=[ToolAssistantToolsCode(type='code_interpreter')])"
      ]
     },
     "execution_count": 12,
     "metadata": {},
     "output_type": "execute_result"
    }
   ],
   "source": [
    "# Run the thread with the assistant with the new message\n",
    "\n",
    "run_chat(client, thread, assistant)"
   ],
   "id": "832ad5ff2f179aa0"
  },
  {
   "cell_type": "markdown",
   "metadata": {},
   "source": [
    "# Run the below code everytime you need to see the new chats"
   ],
   "id": "82130b61634a30ad"
  },
  {
   "cell_type": "code",
   "execution_count": 13,
   "metadata": {},
   "outputs": [
    {
     "name": "stdout",
     "output_type": "stream",
     "text": [
      "USER: Explain reproduction in humans to me.\n",
      "ASSISTANT: Sure! Reproduction in humans is the process by which new individuals are produced. In humans, reproduction involves the union of an egg from a female and a sperm from a male. This process is called fertilization and it typically occurs in the female reproductive system, specifically in the fallopian tubes.\n",
      "\n",
      "After fertilization, the fertilized egg, also known as a zygote, implants itself in the lining of the uterus where it develops into an embryo. The embryo then grows and develops within the uterus for about 9 months, a period known as gestation. At the end of gestation, the baby is born through the mother's vagina in a process called childbirth.\n",
      "\n",
      "The male reproductive system produces and delivers sperm, which are necessary for fertilization, while the female reproductive system produces eggs and provides the environment for the embryo to develop.\n",
      "\n",
      "For example, when a sperm from a male joins with an egg from a female, it forms a zygote, which eventually develops into a baby. This is how reproduction occurs in humans.\n",
      "USER: What does the male need to do with the female to reproduce?\n",
      "ASSISTANT: In order to reproduce, the male needs to engage in sexual intercourse with the female. During sexual intercourse, the male's reproductive system delivers sperm into the female's reproductive system. The sperm then travel through the female reproductive system to reach the egg. When a sperm successfully fertilizes the egg, it initiates the process of reproduction.\n",
      "\n",
      "It's important to note that sexual intercourse should only occur between consenting adults and within the boundaries of a respectful and consensual relationship. Additionally, it's important for individuals to have a good understanding of reproductive health, contraception, and safe sexual practices.\n"
     ]
    }
   ],
   "source": [
    "# Retrieve the chat history\n",
    "\n",
    "history = get_messages_in_chat(client, thread)\n",
    "\n",
    "# Convert the SyncCursorPage object to a list and reverse the order for display\n",
    "messages = list(history)[::-1]\n",
    "\n",
    "# Call the display function with the reversed messages\n",
    "display_chat_messages(messages)\n"
   ],
   "id": "577f6266c05babee"
  }
 ],
 "metadata": {
  "kernelspec": {
   "display_name": "Python 3 (ipykernel)",
   "language": "python",
   "name": "python3"
  },
  "language_info": {
   "codemirror_mode": {
    "name": "ipython",
    "version": 3
   },
   "file_extension": ".py",
   "mimetype": "text/x-python",
   "name": "python",
   "nbconvert_exporter": "python",
   "pygments_lexer": "ipython3",
   "version": "3.11.4"
  }
 },
 "nbformat": 4,
 "nbformat_minor": 5
}
